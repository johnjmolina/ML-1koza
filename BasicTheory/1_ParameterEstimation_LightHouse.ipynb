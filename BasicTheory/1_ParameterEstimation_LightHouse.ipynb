{
 "cells": [
  {
   "cell_type": "code",
   "execution_count": null,
   "metadata": {},
   "outputs": [],
   "source": [
    "from IPython.display import Image\n",
    "import numpy as np\n",
    "import pymc3 as pm\n",
    "import seaborn as sns\n",
    "import theano as th\n",
    "import theano.tensor as tt\n",
    "\n",
    "import matplotlib as mpl\n",
    "import matplotlib.pyplot as plt\n",
    "from functools import reduce\n",
    "\n",
    "from plotutils import addtxt\n",
    "mpl.style.use(['./scripts/theme_bw.mplstyle', './scripts/presentation.mplstyle'])"
   ]
  },
  {
   "cell_type": "code",
   "execution_count": null,
   "metadata": {},
   "outputs": [],
   "source": [
    "Image(filename='./images/LigthHouse.png') "
   ]
  },
  {
   "cell_type": "markdown",
   "metadata": {},
   "source": [
    "Statement: A lighthouse is known to be emmitting pulses in random intervals.\n",
    "\n",
    "If the pulses are (all) intercepted on the beach, we have the positions ${x_k}$, but not the angles. Where is the lighthouse?\n",
    "\n",
    "From Bayes' theorem we have\n",
    "\\begin{align}\n",
    "P(\\alpha, \\beta \\lvert \\{x_k\\}, I) &= \\frac{P(\\alpha, \\beta \\lvert I) P(\\{x_k\\}\\lvert \\alpha, \\beta, I)}{P(\\{x_k\\} \\lvert I)} \\\\\n",
    "&\\propto P(\\alpha, \\beta\\lvert I) P(\\{x_k\\} | \\alpha, \\beta, I) \\\\\n",
    "&\\propto P(\\alpha\\lvert I) P(\\beta \\lvert I) P(\\{x_k\\} \\lvert \\alpha, \\beta, I)\n",
    "\\end{align}\n",
    "\n",
    "We asign a uniform prior on the angles $\\theta_k$, and peform a change of variables to derive the corresponding prior on the positions along the beach $x_k$\n",
    "\\begin{align}\n",
    "P(x_k\\lvert \\alpha, \\beta, I) &= P(\\theta_k \\lvert \\alpha, \\beta, I) \\left\\lvert\\frac{\\partial\\theta_k}{\\partial x_k}\\right\\lvert \\\\\n",
    "&= \\frac{1}{\\pi} \\frac{\\beta}{\\beta^2 + \\left(x - \\alpha\\right)^2}\n",
    "\\end{align}\n",
    "\n",
    "Note that the prior turns out to be given by a Caucy distribution\n",
    "https://docs.pymc.io/api/distributions/continuous.html#pymc3.distributions.continuous.Cauchy"
   ]
  },
  {
   "cell_type": "code",
   "execution_count": null,
   "metadata": {},
   "outputs": [],
   "source": [
    "np.random.seed(911)\n",
    "αtrue, βtrue = 10.0, 50.0\n",
    "\n",
    "θsample = np.random.uniform(low=-np.pi/2, high=np.pi/2, size=2**10)\n",
    "xsample = αtrue + βtrue*np.tan(θsample)\n",
    "\n",
    "fig, ax = plt.subplots(figsize=(18,6))\n",
    "ax.vlines(xsample, 0.0, 1, alpha=0.8, lw=0.2)\n",
    "ax.vlines(xsample[:2**3], 0.0, 1, alpha=0.6, lw=2, color='red')\n",
    "ax.vlines(xsample[2**3:2**6], 0.0, 1, alpha=0.6, lw=2, color='blue')\n",
    "ax.set_xlim(-1e3, 1e3)\n",
    "ax.set_xlabel(r'$x$ [km]', fontsize=30)\n",
    "ax.set_yticks([])\n",
    "plt.show()"
   ]
  },
  {
   "cell_type": "code",
   "execution_count": null,
   "metadata": {},
   "outputs": [],
   "source": [
    "traces = []\n",
    "for n in range(1,11):\n",
    "    with pm.Model() as model:\n",
    "        α    = pm.Uniform('α', lower=np.min(xsample), upper=np.max(xsample))\n",
    "        logβ = pm.Uniform('logβ', lower=-10, upper=5)\n",
    "        β    = pm.Deterministic('β', tt.exp(logβ))\n",
    "        x    = pm.Cauchy('x', α, β, observed=xsample[:2**n])\n",
    "        traces.append(pm.sample(10000, tune=15000, progressbar=True))"
   ]
  },
  {
   "cell_type": "code",
   "execution_count": null,
   "metadata": {},
   "outputs": [],
   "source": [
    "for trace in traces[-1:]:\n",
    "    pm.plot_posterior(trace, varnames=['α', 'β']); plt.show()\n",
    "    pm.traceplot(trace, varnames=['α', 'β']); plt.show()\n",
    "    pm.forestplot(trace, varnames=['α', 'β']); plt.show()"
   ]
  },
  {
   "cell_type": "code",
   "execution_count": null,
   "metadata": {},
   "outputs": [],
   "source": [
    "fig, ax = plt.subplots(figsize=(18,9))\n",
    "n     = 9\n",
    "trace = traces[n]\n",
    "raw   = xsample[:2**(n+1)]\n",
    "\n",
    "sns.kdeplot(trace['α'], trace['β'], shade=True, shade_lowest=False, n_levels=4,ax =ax)\n",
    "ax.vlines(raw[np.abs(raw) < 100], 0, 5)\n",
    "\n",
    "ax.add_patch(plt.Circle((αtrue, βtrue), 1,  color='k'))\n",
    "ax.set_xlim(-100,100); ax.set_ylim(0, 100)\n",
    "ax.set_aspect('equal')\n",
    "ax.set_xlabel(r'$\\alpha$', fontsize=22); ax.set_ylabel(r'$\\beta$', fontsize=22)\n",
    "plt.show()"
   ]
  },
  {
   "cell_type": "code",
   "execution_count": null,
   "metadata": {},
   "outputs": [],
   "source": [
    "fig, [ax,bx] = plt.subplots(figsize=(18,9), ncols=2, sharey=True)\n",
    "colors = [mpl.colors.rgb2hex(c) for c in mpl.cm.plasma(np.linspace(0,1,num=len(traces)))]\n",
    "for trace,n,c in zip(traces, range(len(traces)), colors):\n",
    "    sns.distplot(trace['α'], color=c, hist=False, ax=ax)\n",
    "    sns.distplot(trace['β'], color=c, hist=False, ax=bx, label=f'{2**(n+1)}')\n",
    "for xx,lx,ly in zip([ax,bx], [r'$\\alpha$', r'$\\beta$'], [r'$P(\\alpha | {x_k} \\mathcal{I})$', r'$P(\\beta | {x_k} \\mathcal{I})$']):\n",
    "    xx.set_xlabel(lx, fontsize=22)\n",
    "    xx.set_ylabel(ly, fontsize=22)\n",
    "bx.legend(fontsize=22)\n",
    "ax.vlines(αtrue, 0.0, 0.2, linestyles='--', color='gray')\n",
    "bx.vlines(βtrue, 0.0, 0.2, linestyles='--', color='gray')\n",
    "ax.set_xlim(-100, 100); bx.set_xlim(0, 200); ax.set_ylim(0, 0.2);"
   ]
  },
  {
   "cell_type": "code",
   "execution_count": null,
   "metadata": {},
   "outputs": [],
   "source": []
  }
 ],
 "metadata": {
  "kernelspec": {
   "display_name": "Python 3",
   "language": "python",
   "name": "python3"
  },
  "language_info": {
   "codemirror_mode": {
    "name": "ipython",
    "version": 3
   },
   "file_extension": ".py",
   "mimetype": "text/x-python",
   "name": "python",
   "nbconvert_exporter": "python",
   "pygments_lexer": "ipython3",
   "version": "3.7.3"
  }
 },
 "nbformat": 4,
 "nbformat_minor": 2
}
