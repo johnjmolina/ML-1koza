{
 "cells": [
  {
   "cell_type": "code",
   "execution_count": null,
   "metadata": {},
   "outputs": [],
   "source": [
    "from IPython.display import Image\n",
    "import numpy as np\n",
    "import pymc3 as pm\n",
    "import seaborn as sns\n",
    "import theano as th\n",
    "import theano.tensor as tt\n",
    "\n",
    "import matplotlib as mpl\n",
    "import matplotlib.pyplot as plt\n",
    "from functools import reduce\n",
    "\n",
    "from plotutils import addtxt\n",
    "mpl.style.use(['./scripts/theme_bw.mplstyle', './scripts/presentation.mplstyle'])\n",
    "\n",
    "# https://docs.pymc.io/notebooks/getting_started.html"
   ]
  },
  {
   "cell_type": "code",
   "execution_count": null,
   "metadata": {},
   "outputs": [],
   "source": [
    "disaster_data = np.ma.masked_values([4, 5, 4, 0, 1, 4, 3, 4, 0, 6, 3, 3, 4, 0, 2, 6,\n",
    "                            3, 3, 5, 4, 5, 3, 1, 4, 4, 1, 5, 5, 3, 4, 2, 5,\n",
    "                            2, 2, 3, 4, 2, 1, 3, -999, 2, 1, 1, 1, 1, 3, 0, 0,\n",
    "                            1, 0, 1, 1, 0, 0, 3, 1, 0, 3, 2, 2, 0, 1, 1, 1,\n",
    "                            0, 1, 0, 1, 0, 0, 0, 2, 1, 0, 0, 0, 1, 1, 0, 2,\n",
    "                            3, 3, 1, -999, 2, 1, 1, 1, 1, 2, 4, 2, 0, 0, 1, 4,\n",
    "                            0, 0, 0, 1, 0, 0, 0, 0, 0, 1, 0, 0, 1, 0, 1], value=-999)\n",
    "years = np.arange(1851, 1962)\n",
    "\n",
    "plt.plot(years, disaster_data, 'o', markersize=8);\n",
    "plt.ylabel(\"Disaster count\")\n",
    "plt.xlabel(\"Year\");"
   ]
  },
  {
   "cell_type": "markdown",
   "metadata": {},
   "source": [
    "\\begin{align}\n",
    "D_t &\\equiv \\textrm{number of disasters in year t} &\\sim \\text{Poisson}(r_t) \\\\\n",
    "r_t &\\equiv \\textrm{rate parameter} &= \\begin{cases}\n",
    "e & t\\le s \\\\\n",
    "l & t > s\n",
    "\\end{cases}\\\\\n",
    "s &\\equiv \\textrm{switchpoint when rates changed} \\\\\n",
    "e,l &\\equiv \\textrm{accident rates}\n",
    "\\end{align}"
   ]
  },
  {
   "cell_type": "code",
   "execution_count": null,
   "metadata": {},
   "outputs": [],
   "source": [
    "with pm.Model() as model:\n",
    "    switch = pm.DiscreteUniform('switch', lower=years.min(), upper = years.max())\n",
    "    \n",
    "    # prior for early/late rates\n",
    "    early_rate = pm.Uniform('early_rate', lower=0, upper = 10)\n",
    "    late_rate   = pm.Uniform('late_rate', lower=0, upper =10)\n",
    "    \n",
    "    # Allocate appropriate rate for late/early periods\n",
    "    rate = pm.math.switch(switch >= years, early_rate, late_rate)\n",
    "    \n",
    "    disasters = pm.Poisson('disasters', rate, observed = disaster_data)\n",
    "    "
   ]
  },
  {
   "cell_type": "code",
   "execution_count": null,
   "metadata": {},
   "outputs": [],
   "source": [
    "with model:\n",
    "    trace = pm.sample(10000, tune=15000, progressbar=True)"
   ]
  },
  {
   "cell_type": "code",
   "execution_count": null,
   "metadata": {},
   "outputs": [],
   "source": [
    "pm.traceplot(trace);"
   ]
  },
  {
   "cell_type": "code",
   "execution_count": null,
   "metadata": {},
   "outputs": [],
   "source": [
    "pm.forestplot(trace, varnames=['early_rate', 'late_rate', 'disasters_missing']);plt.show()"
   ]
  },
  {
   "cell_type": "code",
   "execution_count": null,
   "metadata": {},
   "outputs": [],
   "source": [
    "fig, ax = plt.subplots(figsize=(9,9))\n",
    "\n",
    "ax.plot(years, disaster_data, '.')\n",
    "ax.set_ylabel('Number of accidents', fontsize=18)\n",
    "ax.set_ylabel('Year', fontsize=18)\n",
    "ax.vlines(trace['switch'].mean(), disaster_data.min(), disaster_data.max())\n",
    "\n",
    "avg_disasters = np.zeros_like(disaster_data, dtype=np.float)\n",
    "for i,year in enumerate(years):\n",
    "    idx = year < trace['switch']  # which samples have switch > year\n",
    "    avg_disasters[i] = (trace['early_rate'][idx].sum() + trace['late_rate'][~idx].sum())/(len(trace)*trace.nchains)\n",
    "\n",
    "sp_hpd = pm.hpd(trace['switch'])\n",
    "plt.fill_betweenx(y=[disaster_data.min(), disaster_data.max()],x1=sp_hpd[0], x2=sp_hpd[1], alpha=0.5, color='C1');\n",
    "ax.plot(years, avg_disasters, 'k--', lw=2)"
   ]
  },
  {
   "cell_type": "code",
   "execution_count": null,
   "metadata": {},
   "outputs": [],
   "source": []
  }
 ],
 "metadata": {
  "kernelspec": {
   "display_name": "Python 3",
   "language": "python",
   "name": "python3"
  },
  "language_info": {
   "codemirror_mode": {
    "name": "ipython",
    "version": 3
   },
   "file_extension": ".py",
   "mimetype": "text/x-python",
   "name": "python",
   "nbconvert_exporter": "python",
   "pygments_lexer": "ipython3",
   "version": "3.7.3"
  }
 },
 "nbformat": 4,
 "nbformat_minor": 2
}
